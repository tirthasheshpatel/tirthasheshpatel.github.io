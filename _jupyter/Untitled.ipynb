{
 "cells": [
  {
   "cell_type": "code",
   "execution_count": 1,
   "metadata": {},
   "outputs": [],
   "source": [
    "from __future__ import division\n",
    "from __future__ import print_function\n",
    "\n",
    "import numpy as np\n",
    "import tensorflow as tf\n",
    "import matplotlib.pyplot as plt\n",
    "np.random.seed(42)"
   ]
  },
  {
   "cell_type": "code",
   "execution_count": 2,
   "metadata": {},
   "outputs": [
    {
     "name": "stdout",
     "output_type": "stream",
     "text": [
      "numpy==1.18.1\n",
      "tensorflow==2.2.0-dev20200219\n"
     ]
    }
   ],
   "source": [
    "print(\n",
    "    f\"numpy=={np.__version__}\",\n",
    "    f\"tensorflow=={tf.__version__}\",\n",
    "    sep=\"\\n\"\n",
    ")"
   ]
  },
  {
   "cell_type": "code",
   "execution_count": 3,
   "metadata": {},
   "outputs": [
    {
     "data": {
      "text/plain": [
       "[PhysicalDevice(name='/physical_device:CPU:0', device_type='CPU')]"
      ]
     },
     "execution_count": 3,
     "metadata": {},
     "output_type": "execute_result"
    }
   ],
   "source": [
    "tf.config.list_physical_devices('CPU')"
   ]
  },
  {
   "cell_type": "code",
   "execution_count": 4,
   "metadata": {},
   "outputs": [],
   "source": [
    "@tf.function\n",
    "def f(x):\n",
    "    loss = (x - 5) ** 2\n",
    "    return loss"
   ]
  },
  {
   "cell_type": "code",
   "execution_count": 5,
   "metadata": {},
   "outputs": [
    {
     "name": "stdout",
     "output_type": "stream",
     "text": [
      "tf.Tensor(-8.0, shape=(), dtype=float32)\n"
     ]
    }
   ],
   "source": [
    "x = tf.constant(1.0)\n",
    "with tf.GradientTape() as tape:\n",
    "    tape.watch(x)\n",
    "    loss = f(x)\n",
    "    dloss_dx = tape.gradient(loss, x)\n",
    "    print(dloss_dx)\n",
    "del tape # Drop the referance"
   ]
  },
  {
   "cell_type": "code",
   "execution_count": 6,
   "metadata": {},
   "outputs": [],
   "source": [
    "def train(loss_func, lr=0.01):\n",
    "    x = tf.Variable(1.0)\n",
    "    with tf.GradientTape(persistent=True) as tape:\n",
    "        for _ in range(100):\n",
    "            loss = loss_func(x)\n",
    "            dloss_dx = tape.gradient(loss, x)\n",
    "            x = x - lr * dloss_dx\n",
    "    del tape\n",
    "    return x"
   ]
  },
  {
   "cell_type": "code",
   "execution_count": 7,
   "metadata": {},
   "outputs": [
    {
     "name": "stdout",
     "output_type": "stream",
     "text": [
      "WARNING:tensorflow:Calling GradientTape.gradient on a persistent tape inside its context is significantly less efficient than calling it outside the context (it causes the gradient ops to be recorded on the tape, leading to increased CPU and memory usage). Only call GradientTape.gradient inside the context if you actually want to trace the gradient in order to compute higher order derivatives.\n",
      "tf.Tensor(4.4695225, shape=(), dtype=float32)\n"
     ]
    }
   ],
   "source": [
    "x_hat = train(f)\n",
    "print(x_hat)"
   ]
  },
  {
   "cell_type": "code",
   "execution_count": 8,
   "metadata": {},
   "outputs": [
    {
     "name": "stdout",
     "output_type": "stream",
     "text": [
      "tf.Tensor(4.999999, shape=(), dtype=float32)\n"
     ]
    }
   ],
   "source": [
    "x_hat = train(f, lr=0.1)\n",
    "print(x_hat)"
   ]
  },
  {
   "cell_type": "code",
   "execution_count": 12,
   "metadata": {},
   "outputs": [
    {
     "data": {
      "text/plain": [
       "<matplotlib.collections.PathCollection at 0x21858f1f668>"
      ]
     },
     "execution_count": 12,
     "metadata": {},
     "output_type": "execute_result"
    },
    {
     "data": {
      "image/png": "[encoded data removed]",
      "text/plain": [
       "<Figure size 432x288 with 1 Axes>"
      ]
     },
     "metadata": {
      "needs_background": "light"
     },
     "output_type": "display_data"
    }
   ],
   "source": [
    "X = tf.random.normal((10, 1))\n",
    "w_true = tf.random.normal((1, 1))\n",
    "b_true = tf.constant(1.0)\n",
    "y_true = X @ w_true + b_true + 0.05 * tf.random.normal((10, 1))\n",
    "plt.scatter(X, y_true)"
   ]
  },
  {
   "cell_type": "code",
   "execution_count": 21,
   "metadata": {},
   "outputs": [],
   "source": [
    "@tf.function\n",
    "def mean_squared_error(y_true, y_pred):\n",
    "    loss = tf.reduce_mean((y_true - y_pred) ** 2)\n",
    "    return loss\n",
    "\n",
    "@tf.function\n",
    "def predict(X, w, b):\n",
    "    preds = X @ w + b\n",
    "    return preds\n",
    "\n",
    "def train_linear_regressor(lr=0.01):\n",
    "    w = tf.random.normal((1, 1))\n",
    "    b = tf.constant(0.0)\n",
    "\n",
    "    with tf.GradientTape(persistent=True) as tape:\n",
    "        tape.watch(w)\n",
    "        tape.watch(b)\n",
    "        for _ in range(100):\n",
    "            y_pred = predict(X, w, b)\n",
    "            loss = mean_squared_error(y_true, y_pred)\n",
    "            loss_grad_w, loss_grad_b = tape.gradient(loss, [w, b])\n",
    "            w = w - lr * loss_grad_w\n",
    "            b = b - lr * loss_grad_b\n",
    "    return w, b"
   ]
  },
  {
   "cell_type": "code",
   "execution_count": 22,
   "metadata": {
    "scrolled": false
   },
   "outputs": [
    {
     "name": "stdout",
     "output_type": "stream",
     "text": [
      "WARNING:tensorflow:Calling GradientTape.gradient on a persistent tape inside its context is significantly less efficient than calling it outside the context (it causes the gradient ops to be recorded on the tape, leading to increased CPU and memory usage). Only call GradientTape.gradient inside the context if you actually want to trace the gradient in order to compute higher order derivatives.\n"
     ]
    }
   ],
   "source": [
    "w_opt, b_opt = train_linear_regressor()"
   ]
  },
  {
   "cell_type": "code",
   "execution_count": 23,
   "metadata": {},
   "outputs": [
    {
     "name": "stdout",
     "output_type": "stream",
     "text": [
      "loss: 0.037842437624931335\n",
      "actual_w: [[-2.0935113]]\n",
      "inferred w: [[-1.425751]]\n",
      "actual b: 0.0\n",
      "inferred b: 0.8589568138122559\n"
     ]
    }
   ],
   "source": [
    "preds = predict(X, w_opt, b_opt)\n",
    "print(f\"loss: {mean_squared_error(y_true, preds)}\")\n",
    "print(f\"actual_w: {w}\")\n",
    "print(f\"inferred w: {w_opt}\")\n",
    "print(f\"actual b: {b}\")\n",
    "print(f\"inferred b: {b_opt}\")"
   ]
  },
  {
   "cell_type": "code",
   "execution_count": 24,
   "metadata": {},
   "outputs": [
    {
     "data": {
      "text/plain": [
       "<matplotlib.collections.PathCollection at 0x218691ca588>"
      ]
     },
     "execution_count": 24,
     "metadata": {},
     "output_type": "execute_result"
    },
    {
     "data": {
      "image/png": "[encoded data removed]",
      "text/plain": [
       "<Figure size 432x288 with 1 Axes>"
      ]
     },
     "metadata": {
      "needs_background": "light"
     },
     "output_type": "display_data"
    }
   ],
   "source": [
    "plt.plot(X, predict(X, w_opt, b_opt))\n",
    "plt.scatter(X, y_true)"
   ]
  },
  {
   "cell_type": "code",
   "execution_count": 136,
   "metadata": {},
   "outputs": [
    {
     "data": {
      "text/plain": [
       "<tensorflow.python.data.ops.iterator_ops.OwnedIterator at 0x218691efda0>"
      ]
     },
     "execution_count": 136,
     "metadata": {},
     "output_type": "execute_result"
    }
   ],
   "source": [
    "data = np.random.randn(1000, 2)\n",
    "dataset = tf.data.Dataset.from_tensor_slices(data)\n",
    "batch_size = 10\n",
    "batch = dataset.batch(batch_size).__iter__()\n",
    "batch"
   ]
  },
  {
   "cell_type": "code",
   "execution_count": 30,
   "metadata": {
    "scrolled": true
   },
   "outputs": [
    {
     "data": {
      "text/plain": [
       "<tf.Tensor: shape=(10, 2), dtype=float64, numpy=\n",
       "array([[ 0.27737694,  1.3606586 ],\n",
       "       [-1.3088204 , -3.01951216],\n",
       "       [ 0.18384954,  1.80051118],\n",
       "       [ 1.23894635,  0.20965942],\n",
       "       [-0.49163619,  0.8071226 ],\n",
       "       [-0.9735462 ,  0.47635777],\n",
       "       [ 0.50547016,  1.06020991],\n",
       "       [ 2.75966004,  0.39241597],\n",
       "       [-0.50896363, -0.02557431],\n",
       "       [-1.7690759 , -0.69471313]])>"
      ]
     },
     "execution_count": 30,
     "metadata": {},
     "output_type": "execute_result"
    }
   ],
   "source": [
    "batch.get_next()"
   ]
  },
  {
   "cell_type": "code",
   "execution_count": 163,
   "metadata": {},
   "outputs": [],
   "source": [
    "def heavy_computation(tensor):\n",
    "    a = tf.exp(0.5 * (tensor - 1.0) ** 2 / 2 * tensor % 10)"
   ]
  },
  {
   "cell_type": "code",
   "execution_count": 175,
   "metadata": {},
   "outputs": [],
   "source": [
    "# A dummy dataset with 1000 samples and 2 features.\n",
    "data = np.random.randn(1000, 2)\n",
    "\n",
    "batched_data = data.reshape(10, -1, 2)\n",
    "\n",
    "# Sum all the elements in the tensor in parallel\n",
    "result = tf.vectorized_map(heavy_computation, batched_data)"
   ]
  },
  {
   "cell_type": "code",
   "execution_count": 176,
   "metadata": {},
   "outputs": [
    {
     "name": "stdout",
     "output_type": "stream",
     "text": [
      "564 ms ± 9.21 ms per loop (mean ± std. dev. of 7 runs, 1 loop each)\n"
     ]
    }
   ],
   "source": [
    "%timeit tf.vectorized_map(heavy_computation, batched_data)"
   ]
  },
  {
   "cell_type": "code",
   "execution_count": 177,
   "metadata": {},
   "outputs": [
    {
     "name": "stdout",
     "output_type": "stream",
     "text": [
      "245 ms ± 3.4 ms per loop (mean ± std. dev. of 7 runs, 1 loop each)\n"
     ]
    }
   ],
   "source": [
    "%timeit for i in range(0, 1000, 10): heavy_computation(data[i:i+10, :])"
   ]
  },
  {
   "cell_type": "code",
   "execution_count": null,
   "metadata": {},
   "outputs": [],
   "source": []
  }
 ],
 "metadata": {
  "kernelspec": {
   "display_name": "PyMC4(env)",
   "language": "python",
   "name": "env"
  },
  "language_info": {
   "codemirror_mode": {
    "name": "ipython",
    "version": 3
   },
   "file_extension": ".py",
   "mimetype": "text/x-python",
   "name": "python",
   "nbconvert_exporter": "python",
   "pygments_lexer": "ipython3",
   "version": "3.7.3"
  }
 },
 "nbformat": 4,
 "nbformat_minor": 2
}
